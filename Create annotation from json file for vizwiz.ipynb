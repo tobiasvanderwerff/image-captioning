{
 "cells": [
  {
   "cell_type": "code",
   "execution_count": 5,
   "id": "efficient-combat",
   "metadata": {},
   "outputs": [],
   "source": [
    "from pathlib import Path\n",
    "def json1(path, location_path):\n",
    "    import json\n",
    "     \n",
    "    images_ids = [1000]\n",
    "    imagesDic = {}\n",
    "    captionsDic = {}\n",
    "\n",
    "    # Load the json files\n",
    "    f = open(path)\n",
    "    data = json.load(f)\n",
    "\n",
    "    # Change the file name to store it in\n",
    "    file = open(location_path, \"w\")\n",
    "\n",
    "    # Loop through the data to find the exact items we need (caption and image)\n",
    "    for key, value in data.items():\n",
    "        for ke in value:\n",
    "            for b in ke:\n",
    "                if b == \"caption\":\n",
    "                    # One image can have multiple captions\n",
    "                    if ke['image_id'] not in captionsDic:\n",
    "                        captionsDic[ke['image_id']] = list()\n",
    "                    captionsDic[ke['image_id']].append(ke['caption'])\n",
    "                if b == \"file_name\":\n",
    "                    imagesDic[ke['id']] = ke['file_name']\n",
    "                    images_ids.append(ke['id'])\n",
    "\n",
    "    # Write the data to a text file\n",
    "    for j in images_ids:\n",
    "        if j != 1000:\n",
    "            for l in range(len(captionsDic[j])):\n",
    "                if '\\n' in captionsDic[j][l]:\n",
    "                    i = 0\n",
    "                    while '\\n' in captionsDic[j][i]:\n",
    "                        i+=1\n",
    "                    file.write(\"%s%s%d\\t%s\\n\" % (imagesDic[j], '#', l, captionsDic[j][i]))\n",
    "                else:\n",
    "                    file.write(\"%s%s%d\\t%s\\n\" % (imagesDic[j], '#', l, captionsDic[j][l]))\n",
    "    file.close()\n",
    "    print('\\nSummary of lengths:')\n",
    "    print(len(imagesDic))\n",
    "    print(len(captionsDic))\n",
    "    \n"
   ]
  },
  {
   "cell_type": "code",
   "execution_count": 7,
   "id": "inside-music",
   "metadata": {},
   "outputs": [
    {
     "name": "stdout",
     "output_type": "stream",
     "text": [
      "\n",
      "Summary of lengths:\n",
      "23431\n",
      "23431\n"
     ]
    }
   ],
   "source": [
    "import data\n",
    "from data.read_json_for_vizwiz import json\n",
    "#Insert path where you placed the original json file\n",
    "tokens_path = Path('/home/tux/image-captioning-attention/train.json')\n",
    "#Insert path where you want to save the new txt file\n",
    "location_path = Path(\"/home/tux/image-captioning-attention/annotations_train.txt\")\n",
    "json1(tokens_path, location_path)"
   ]
  },
  {
   "cell_type": "code",
   "execution_count": null,
   "id": "rough-certification",
   "metadata": {},
   "outputs": [],
   "source": []
  }
 ],
 "metadata": {
  "kernelspec": {
   "display_name": "Python 3",
   "language": "python",
   "name": "python3"
  },
  "language_info": {
   "codemirror_mode": {
    "name": "ipython",
    "version": 3
   },
   "file_extension": ".py",
   "mimetype": "text/x-python",
   "name": "python",
   "nbconvert_exporter": "python",
   "pygments_lexer": "ipython3",
   "version": "3.7.9"
  }
 },
 "nbformat": 4,
 "nbformat_minor": 5
}
