{
 "cells": [
  {
   "cell_type": "code",
   "execution_count": null,
   "id": "correct-court",
   "metadata": {},
   "outputs": [],
   "source": [
    "from nltk.tokenize import word_tokenize\n",
    "from nltk.translate.bleu_score import sentence_bleu\n",
    "#based on your sample code that uses sample(ds_train_mini[1][0].unsqueeze(0))\n",
    "#so, when needed replace the ds_train_mini with the actual data that needs to be evaluated\n",
    "#it now prints the 4 bleu scores for each image sentence combi, but I think we need to combine it in some way later\n",
    "#Since every score in on a scale of 0 to 1, maybe we can take the average?\n",
    "\n",
    "#let's go through all items of ds_train_mini\n",
    "for item in ds_train_mini:\n",
    "    #we'll need to caption to make comparisons\n",
    "    img, caption, _, _ = item\n",
    "    system = sample(item[0].unsqueeze(0))\n",
    "    reference = ds_train.decode_caption(caption)\n",
    "    \n",
    "    #now we both need them in a tokenized format like ['word1', 'word2', 'word3']\n",
    "    reference = word_tokenize(reference)\n",
    "    last_token = 0\n",
    "    ref = []\n",
    "    for token in reference:\n",
    "        if token == '<':\n",
    "            last_token = 1\n",
    "        elif last_token == 0:\n",
    "            ref.append(token)\n",
    "        elif token == '>':\n",
    "            last_token = 0\n",
    "    \n",
    "    system = word_tokenize(system)\n",
    "    last_token = 0\n",
    "    sys = []\n",
    "    for token in system:\n",
    "        if token == '<':\n",
    "            last_token = 1\n",
    "        elif last_token == 0:\n",
    "            ref.append(token)\n",
    "        elif token == '>':\n",
    "            last_token = 0\n",
    "    \n",
    "    #bleu 4\n",
    "    score = sentence_bleu(ref, sys)\n",
    "    #bleu 3\n",
    "    score = sentence_bleu(ref, sys, weights=[0.33, 0.33, 0.33, 0])\n",
    "    #bleu 2\n",
    "    score = sentence_bleu(ref, sys, weights=[0.5, 0.5, 0, 0])\n",
    "    #bleu 1\n",
    "    score = sentence_bleu(ref, sys, weights=[1, 0, 0, 0])"
   ]
  }
 ],
 "metadata": {
  "kernelspec": {
   "display_name": "Python 3",
   "language": "python",
   "name": "python3"
  },
  "language_info": {
   "codemirror_mode": {
    "name": "ipython",
    "version": 3
   },
   "file_extension": ".py",
   "mimetype": "text/x-python",
   "name": "python",
   "nbconvert_exporter": "python",
   "pygments_lexer": "ipython3",
   "version": "3.7.9"
  }
 },
 "nbformat": 4,
 "nbformat_minor": 5
}
